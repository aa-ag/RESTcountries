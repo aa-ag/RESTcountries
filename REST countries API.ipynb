{
 "cells": [
  {
   "cell_type": "code",
   "execution_count": 1,
   "metadata": {},
   "outputs": [
    {
     "name": "stdout",
     "output_type": "stream",
     "text": [
      "[{'name': 'Anguilla', 'capital': 'The Valley', 'languages': 'English', 'currency': 'East Caribbean dollar'}, {'name': 'Antigua and Barbuda', 'capital': \"Saint John's\", 'languages': 'English', 'currency': 'East Caribbean dollar'}, {'name': 'Argentina', 'capital': 'Buenos Aires', 'languages': 'Spanish', 'currency': 'Argentine peso'}, {'name': 'Aruba', 'capital': 'Oranjestad', 'languages': 'Dutch', 'currency': 'Aruban florin'}, {'name': 'Bahamas', 'capital': 'Nassau', 'languages': 'English', 'currency': 'Bahamian dollar'}, {'name': 'Barbados', 'capital': 'Bridgetown', 'languages': 'English', 'currency': 'Barbadian dollar'}, {'name': 'Belize', 'capital': 'Belmopan', 'languages': 'English', 'currency': 'Belize dollar'}, {'name': 'Bermuda', 'capital': 'Hamilton', 'languages': 'English', 'currency': 'Bermudian dollar'}, {'name': 'Bolivia (Plurinational State of)', 'capital': 'Sucre', 'languages': 'Spanish', 'currency': 'Bolivian boliviano'}, {'name': 'Bonaire, Sint Eustatius and Saba', 'capital': 'Kralendijk', 'languages': 'Dutch', 'currency': 'United States dollar'}, {'name': 'Brazil', 'capital': 'Brasília', 'languages': 'Portuguese', 'currency': 'Brazilian real'}, {'name': 'United States Minor Outlying Islands', 'capital': '', 'languages': 'English', 'currency': 'United States Dollar'}, {'name': 'Virgin Islands (British)', 'capital': 'Road Town', 'languages': 'English', 'currency': '[D]'}, {'name': 'Virgin Islands (U.S.)', 'capital': 'Charlotte Amalie', 'languages': 'English', 'currency': 'United States dollar'}, {'name': 'Canada', 'capital': 'Ottawa', 'languages': 'English', 'currency': 'Canadian dollar'}, {'name': 'Cayman Islands', 'capital': 'George Town', 'languages': 'English', 'currency': 'Cayman Islands dollar'}, {'name': 'Chile', 'capital': 'Santiago', 'languages': 'Spanish', 'currency': 'Chilean peso'}, {'name': 'Colombia', 'capital': 'Bogotá', 'languages': 'Spanish', 'currency': 'Colombian peso'}, {'name': 'Costa Rica', 'capital': 'San José', 'languages': 'Spanish', 'currency': 'Costa Rican colón'}, {'name': 'Cuba', 'capital': 'Havana', 'languages': 'Spanish', 'currency': 'Cuban convertible peso'}, {'name': 'Curaçao', 'capital': 'Willemstad', 'languages': 'Dutch', 'currency': 'Netherlands Antillean guilder'}, {'name': 'Dominica', 'capital': 'Roseau', 'languages': 'English', 'currency': 'East Caribbean dollar'}, {'name': 'Dominican Republic', 'capital': 'Santo Domingo', 'languages': 'Spanish', 'currency': 'Dominican peso'}, {'name': 'Ecuador', 'capital': 'Quito', 'languages': 'Spanish', 'currency': 'United States dollar'}, {'name': 'El Salvador', 'capital': 'San Salvador', 'languages': 'Spanish', 'currency': 'United States dollar'}, {'name': 'Falkland Islands (Malvinas)', 'capital': 'Stanley', 'languages': 'English', 'currency': 'Falkland Islands pound'}, {'name': 'French Guiana', 'capital': 'Cayenne', 'languages': 'French', 'currency': 'Euro'}, {'name': 'Greenland', 'capital': 'Nuuk', 'languages': 'Kalaallisut', 'currency': 'Danish krone'}, {'name': 'Grenada', 'capital': \"St. George's\", 'languages': 'English', 'currency': 'East Caribbean dollar'}, {'name': 'Guadeloupe', 'capital': 'Basse-Terre', 'languages': 'French', 'currency': 'Euro'}, {'name': 'Guatemala', 'capital': 'Guatemala City', 'languages': 'Spanish', 'currency': 'Guatemalan quetzal'}, {'name': 'Guyana', 'capital': 'Georgetown', 'languages': 'English', 'currency': 'Guyanese dollar'}, {'name': 'Haiti', 'capital': 'Port-au-Prince', 'languages': 'French', 'currency': 'Haitian gourde'}, {'name': 'Honduras', 'capital': 'Tegucigalpa', 'languages': 'Spanish', 'currency': 'Honduran lempira'}, {'name': 'Jamaica', 'capital': 'Kingston', 'languages': 'English', 'currency': 'Jamaican dollar'}, {'name': 'Martinique', 'capital': 'Fort-de-France', 'languages': 'French', 'currency': 'Euro'}, {'name': 'Mexico', 'capital': 'Mexico City', 'languages': 'Spanish', 'currency': 'Mexican peso'}, {'name': 'Montserrat', 'capital': 'Plymouth', 'languages': 'English', 'currency': 'East Caribbean dollar'}, {'name': 'Nicaragua', 'capital': 'Managua', 'languages': 'Spanish', 'currency': 'Nicaraguan córdoba'}, {'name': 'Panama', 'capital': 'Panama City', 'languages': 'Spanish', 'currency': 'Panamanian balboa'}, {'name': 'Paraguay', 'capital': 'Asunción', 'languages': 'Spanish', 'currency': 'Paraguayan guaraní'}, {'name': 'Peru', 'capital': 'Lima', 'languages': 'Spanish', 'currency': 'Peruvian sol'}, {'name': 'Puerto Rico', 'capital': 'San Juan', 'languages': 'Spanish', 'currency': 'United States dollar'}, {'name': 'Saint Barthélemy', 'capital': 'Gustavia', 'languages': 'French', 'currency': 'Euro'}, {'name': 'Saint Kitts and Nevis', 'capital': 'Basseterre', 'languages': 'English', 'currency': 'East Caribbean dollar'}, {'name': 'Saint Lucia', 'capital': 'Castries', 'languages': 'English', 'currency': 'East Caribbean dollar'}, {'name': 'Saint Martin (French part)', 'capital': 'Marigot', 'languages': 'English', 'currency': 'Euro'}, {'name': 'Saint Pierre and Miquelon', 'capital': 'Saint-Pierre', 'languages': 'French', 'currency': 'Euro'}, {'name': 'Saint Vincent and the Grenadines', 'capital': 'Kingstown', 'languages': 'English', 'currency': 'East Caribbean dollar'}, {'name': 'Sint Maarten (Dutch part)', 'capital': 'Philipsburg', 'languages': 'Dutch', 'currency': 'Netherlands Antillean guilder'}, {'name': 'South Georgia and the South Sandwich Islands', 'capital': 'King Edward Point', 'languages': 'English', 'currency': 'British pound'}, {'name': 'Suriname', 'capital': 'Paramaribo', 'languages': 'Dutch', 'currency': 'Surinamese dollar'}, {'name': 'Trinidad and Tobago', 'capital': 'Port of Spain', 'languages': 'English', 'currency': 'Trinidad and Tobago dollar'}, {'name': 'Turks and Caicos Islands', 'capital': 'Cockburn Town', 'languages': 'English', 'currency': 'United States dollar'}, {'name': 'United States of America', 'capital': 'Washington, D.C.', 'languages': 'English', 'currency': 'United States dollar'}, {'name': 'Uruguay', 'capital': 'Montevideo', 'languages': 'Spanish', 'currency': 'Uruguayan peso'}, {'name': 'Venezuela (Bolivarian Republic of)', 'capital': 'Caracas', 'languages': 'Spanish', 'currency': 'Venezuelan bolívar'}]\n"
     ]
    }
   ],
   "source": [
    "\"\"\"\n",
    "Using https://restcountries.eu/\n",
    "\n",
    "Let's provide a list with name, capital, languages and currencies in the Americas\n",
    "\"\"\"\n",
    "\n",
    "import requests\n",
    "\n",
    "americas = requests.get('https://restcountries.eu/rest/v2/region/americas/').json()\n",
    "\n",
    "result = []\n",
    "\n",
    "for i in americas:\n",
    "\tcountry = {\n",
    "\t\t'name': i['name'],\n",
    "\t\t'capital': i['capital'],\n",
    "\t\t'languages': i['languages'][0]['name'],\n",
    "\t\t'currency': i['currencies'][0]['name']\n",
    "\t}\n",
    "\tresult.append(country)\n",
    "print(result)\n"
   ]
  },
  {
   "cell_type": "code",
   "execution_count": null,
   "metadata": {},
   "outputs": [],
   "source": []
  }
 ],
 "metadata": {
  "kernelspec": {
   "display_name": "Python 3",
   "language": "python",
   "name": "python3"
  },
  "language_info": {
   "codemirror_mode": {
    "name": "ipython",
    "version": 3
   },
   "file_extension": ".py",
   "mimetype": "text/x-python",
   "name": "python",
   "nbconvert_exporter": "python",
   "pygments_lexer": "ipython3",
   "version": "3.7.6"
  }
 },
 "nbformat": 4,
 "nbformat_minor": 4
}
