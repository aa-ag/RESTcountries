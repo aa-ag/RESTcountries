{
 "cells": [
  {
   "cell_type": "code",
   "execution_count": 3,
   "metadata": {},
   "outputs": [
    {
     "name": "stdout",
     "output_type": "stream",
     "text": [
      "[{'name': 'Anguilla', 'capital': 'The Valley', 'languages': 'English', 'currency': 'East Caribbean dollar'}, {'name': 'Antigua and Barbuda', 'capital': \"Saint John's\", 'languages': 'English', 'currency': 'East Caribbean dollar'}, {'name': 'Argentina', 'capital': 'Buenos Aires', 'languages': 'Spanish', 'currency': 'Argentine peso'}, {'name': 'Aruba', 'capital': 'Oranjestad', 'languages': 'Dutch', 'currency': 'Aruban florin'}, {'name': 'Bahamas', 'capital': 'Nassau', 'languages': 'English', 'currency': 'Bahamian dollar'}, {'name': 'Barbados', 'capital': 'Bridgetown', 'languages': 'English', 'currency': 'Barbadian dollar'}, {'name': 'Belize', 'capital': 'Belmopan', 'languages': 'English', 'currency': 'Belize dollar'}, {'name': 'Bermuda', 'capital': 'Hamilton', 'languages': 'English', 'currency': 'Bermudian dollar'}, {'name': 'Bolivia (Plurinational State of)', 'capital': 'Sucre', 'languages': 'Spanish', 'currency': 'Bolivian boliviano'}, {'name': 'Bonaire, Sint Eustatius and Saba', 'capital': 'Kralendijk', 'languages': 'Dutch', 'currency': 'United States dollar'}, {'name': 'Brazil', 'capital': 'Brasília', 'languages': 'Portuguese', 'currency': 'Brazilian real'}, {'name': 'United States Minor Outlying Islands', 'capital': '', 'languages': 'English', 'currency': 'United States Dollar'}, {'name': 'Virgin Islands (British)', 'capital': 'Road Town', 'languages': 'English', 'currency': '[D]'}, {'name': 'Virgin Islands (U.S.)', 'capital': 'Charlotte Amalie', 'languages': 'English', 'currency': 'United States dollar'}, {'name': 'Canada', 'capital': 'Ottawa', 'languages': 'English', 'currency': 'Canadian dollar'}, {'name': 'Cayman Islands', 'capital': 'George Town', 'languages': 'English', 'currency': 'Cayman Islands dollar'}, {'name': 'Chile', 'capital': 'Santiago', 'languages': 'Spanish', 'currency': 'Chilean peso'}, {'name': 'Colombia', 'capital': 'Bogotá', 'languages': 'Spanish', 'currency': 'Colombian peso'}, {'name': 'Costa Rica', 'capital': 'San José', 'languages': 'Spanish', 'currency': 'Costa Rican colón'}, {'name': 'Cuba', 'capital': 'Havana', 'languages': 'Spanish', 'currency': 'Cuban convertible peso'}, {'name': 'Curaçao', 'capital': 'Willemstad', 'languages': 'Dutch', 'currency': 'Netherlands Antillean guilder'}, {'name': 'Dominica', 'capital': 'Roseau', 'languages': 'English', 'currency': 'East Caribbean dollar'}, {'name': 'Dominican Republic', 'capital': 'Santo Domingo', 'languages': 'Spanish', 'currency': 'Dominican peso'}, {'name': 'Ecuador', 'capital': 'Quito', 'languages': 'Spanish', 'currency': 'United States dollar'}, {'name': 'El Salvador', 'capital': 'San Salvador', 'languages': 'Spanish', 'currency': 'United States dollar'}, {'name': 'Falkland Islands (Malvinas)', 'capital': 'Stanley', 'languages': 'English', 'currency': 'Falkland Islands pound'}, {'name': 'French Guiana', 'capital': 'Cayenne', 'languages': 'French', 'currency': 'Euro'}, {'name': 'Greenland', 'capital': 'Nuuk', 'languages': 'Kalaallisut', 'currency': 'Danish krone'}, {'name': 'Grenada', 'capital': \"St. George's\", 'languages': 'English', 'currency': 'East Caribbean dollar'}, {'name': 'Guadeloupe', 'capital': 'Basse-Terre', 'languages': 'French', 'currency': 'Euro'}, {'name': 'Guatemala', 'capital': 'Guatemala City', 'languages': 'Spanish', 'currency': 'Guatemalan quetzal'}, {'name': 'Guyana', 'capital': 'Georgetown', 'languages': 'English', 'currency': 'Guyanese dollar'}, {'name': 'Haiti', 'capital': 'Port-au-Prince', 'languages': 'French', 'currency': 'Haitian gourde'}, {'name': 'Honduras', 'capital': 'Tegucigalpa', 'languages': 'Spanish', 'currency': 'Honduran lempira'}, {'name': 'Jamaica', 'capital': 'Kingston', 'languages': 'English', 'currency': 'Jamaican dollar'}, {'name': 'Martinique', 'capital': 'Fort-de-France', 'languages': 'French', 'currency': 'Euro'}, {'name': 'Mexico', 'capital': 'Mexico City', 'languages': 'Spanish', 'currency': 'Mexican peso'}, {'name': 'Montserrat', 'capital': 'Plymouth', 'languages': 'English', 'currency': 'East Caribbean dollar'}, {'name': 'Nicaragua', 'capital': 'Managua', 'languages': 'Spanish', 'currency': 'Nicaraguan córdoba'}, {'name': 'Panama', 'capital': 'Panama City', 'languages': 'Spanish', 'currency': 'Panamanian balboa'}, {'name': 'Paraguay', 'capital': 'Asunción', 'languages': 'Spanish', 'currency': 'Paraguayan guaraní'}, {'name': 'Peru', 'capital': 'Lima', 'languages': 'Spanish', 'currency': 'Peruvian sol'}, {'name': 'Puerto Rico', 'capital': 'San Juan', 'languages': 'Spanish', 'currency': 'United States dollar'}, {'name': 'Saint Barthélemy', 'capital': 'Gustavia', 'languages': 'French', 'currency': 'Euro'}, {'name': 'Saint Kitts and Nevis', 'capital': 'Basseterre', 'languages': 'English', 'currency': 'East Caribbean dollar'}, {'name': 'Saint Lucia', 'capital': 'Castries', 'languages': 'English', 'currency': 'East Caribbean dollar'}, {'name': 'Saint Martin (French part)', 'capital': 'Marigot', 'languages': 'English', 'currency': 'Euro'}, {'name': 'Saint Pierre and Miquelon', 'capital': 'Saint-Pierre', 'languages': 'French', 'currency': 'Euro'}, {'name': 'Saint Vincent and the Grenadines', 'capital': 'Kingstown', 'languages': 'English', 'currency': 'East Caribbean dollar'}, {'name': 'Sint Maarten (Dutch part)', 'capital': 'Philipsburg', 'languages': 'Dutch', 'currency': 'Netherlands Antillean guilder'}, {'name': 'South Georgia and the South Sandwich Islands', 'capital': 'King Edward Point', 'languages': 'English', 'currency': 'British pound'}, {'name': 'Suriname', 'capital': 'Paramaribo', 'languages': 'Dutch', 'currency': 'Surinamese dollar'}, {'name': 'Trinidad and Tobago', 'capital': 'Port of Spain', 'languages': 'English', 'currency': 'Trinidad and Tobago dollar'}, {'name': 'Turks and Caicos Islands', 'capital': 'Cockburn Town', 'languages': 'English', 'currency': 'United States dollar'}, {'name': 'United States of America', 'capital': 'Washington, D.C.', 'languages': 'English', 'currency': 'United States dollar'}, {'name': 'Uruguay', 'capital': 'Montevideo', 'languages': 'Spanish', 'currency': 'Uruguayan peso'}, {'name': 'Venezuela (Bolivarian Republic of)', 'capital': 'Caracas', 'languages': 'Spanish', 'currency': 'Venezuelan bolívar'}]\n"
     ]
    }
   ],
   "source": [
    "\"\"\"\n",
    "Using https://restcountries.eu/\n",
    "\n",
    "Let's provide a list with name, capital, languages and currencies in the Americas\n",
    "\"\"\"\n",
    "\n",
    "import requests\n",
    "\n",
    "americas = requests.get('https://restcountries.eu/rest/v2/region/americas/').json()\n",
    "\n",
    "countries = []\n",
    "\n",
    "for i in americas:\n",
    "\tcountry = {\n",
    "\t\t'name': i['name'],\n",
    "\t\t'capital': i['capital'],\n",
    "\t\t'languages': i['languages'][0]['name'],\n",
    "\t\t'currency': i['currencies'][0]['name']\n",
    "\t}\n",
    "\tcountries.append(country)\n",
    "print(countries)"
   ]
  },
  {
   "cell_type": "code",
   "execution_count": 5,
   "metadata": {},
   "outputs": [
    {
     "name": "stdout",
     "output_type": "stream",
     "text": [
      "57\n"
     ]
    }
   ],
   "source": [
    "names_only = []\n",
    "\n",
    "for i in countries:\n",
    "    names_only.append(i['name'])\n",
    "#     print(i['name'])\n",
    "    \n",
    "print(len(names_only))"
   ]
  },
  {
   "cell_type": "code",
   "execution_count": 6,
   "metadata": {},
   "outputs": [
    {
     "name": "stdout",
     "output_type": "stream",
     "text": [
      "['Cuba', 'Peru', 'Aruba', 'Chile', 'Haiti', 'Belize', 'Brazil', 'Canada', 'Guyana', 'Mexico', 'Panama', 'Bahamas', 'Bermuda', 'Curaçao', 'Ecuador', 'Grenada', 'Jamaica', 'Uruguay', 'Anguilla', 'Barbados', 'Colombia', 'Dominica', 'Honduras', 'Paraguay', 'Suriname', 'Argentina', 'Greenland', 'Guatemala', 'Nicaragua', 'Costa Rica', 'Guadeloupe', 'Martinique', 'Montserrat', 'El Salvador', 'Puerto Rico', 'Saint Lucia', 'French Guiana', 'Cayman Islands', 'Saint Barthélemy', 'Dominican Republic', 'Antigua and Barbuda', 'Trinidad and Tobago', 'Virgin Islands (U.S.)', 'Saint Kitts and Nevis', 'Virgin Islands (British)', 'Turks and Caicos Islands', 'United States of America', 'Saint Pierre and Miquelon', 'Sint Maarten (Dutch part)', 'Saint Martin (French part)', 'Falkland Islands (Malvinas)', 'Bolivia (Plurinational State of)', 'Bonaire, Sint Eustatius and Saba', 'Saint Vincent and the Grenadines', 'Venezuela (Bolivarian Republic of)', 'United States Minor Outlying Islands', 'South Georgia and the South Sandwich Islands']\n"
     ]
    }
   ],
   "source": [
    "print(sorted(names_only, key=len))"
   ]
  },
  {
   "cell_type": "code",
   "execution_count": 8,
   "metadata": {},
   "outputs": [
    {
     "name": "stdout",
     "output_type": "stream",
     "text": [
      "['South Georgia and the South Sandwich Islands', 'United States Minor Outlying Islands', 'Venezuela (Bolivarian Republic of)', 'Saint Vincent and the Grenadines', 'Bonaire, Sint Eustatius and Saba', 'Bolivia (Plurinational State of)', 'Falkland Islands (Malvinas)', 'Saint Martin (French part)', 'Sint Maarten (Dutch part)', 'Saint Pierre and Miquelon', 'United States of America', 'Turks and Caicos Islands', 'Virgin Islands (British)', 'Saint Kitts and Nevis', 'Virgin Islands (U.S.)', 'Trinidad and Tobago', 'Antigua and Barbuda', 'Dominican Republic', 'Saint Barthélemy', 'Cayman Islands', 'French Guiana', 'Saint Lucia', 'Puerto Rico', 'El Salvador', 'Montserrat', 'Martinique', 'Guadeloupe', 'Costa Rica', 'Nicaragua', 'Guatemala', 'Greenland', 'Argentina', 'Suriname', 'Paraguay', 'Honduras', 'Dominica', 'Colombia', 'Barbados', 'Anguilla', 'Uruguay', 'Jamaica', 'Grenada', 'Ecuador', 'Curaçao', 'Bermuda', 'Bahamas', 'Panama', 'Mexico', 'Guyana', 'Canada', 'Brazil', 'Belize', 'Haiti', 'Chile', 'Aruba', 'Peru', 'Cuba']\n"
     ]
    }
   ],
   "source": [
    "print(sorted(names_only, key=len)[::-1])"
   ]
  },
  {
   "cell_type": "code",
   "execution_count": 3,
   "metadata": {},
   "outputs": [
    {
     "name": "stdout",
     "output_type": "stream",
     "text": [
      "[{'name': 'Afghanistan', 'currency': 'Afghan afghani'}, {'name': 'Armenia', 'currency': 'Armenian dram'}, {'name': 'Azerbaijan', 'currency': 'Azerbaijani manat'}, {'name': 'Bahrain', 'currency': 'Bahraini dinar'}, {'name': 'Bangladesh', 'currency': 'Bangladeshi taka'}, {'name': 'Bhutan', 'currency': 'Bhutanese ngultrum'}, {'name': 'Brunei Darussalam', 'currency': 'Brunei dollar'}, {'name': 'Cambodia', 'currency': 'Cambodian riel'}, {'name': 'China', 'currency': 'Chinese yuan'}, {'name': 'Georgia', 'currency': 'Georgian Lari'}, {'name': 'Hong Kong', 'currency': 'Hong Kong dollar'}, {'name': 'India', 'currency': 'Indian rupee'}, {'name': 'Indonesia', 'currency': 'Indonesian rupiah'}, {'name': 'Iran (Islamic Republic of)', 'currency': 'Iranian rial'}, {'name': 'Iraq', 'currency': 'Iraqi dinar'}, {'name': 'Israel', 'currency': 'Israeli new shekel'}, {'name': 'Japan', 'currency': 'Japanese yen'}, {'name': 'Jordan', 'currency': 'Jordanian dinar'}, {'name': 'Kazakhstan', 'currency': 'Kazakhstani tenge'}, {'name': 'Kuwait', 'currency': 'Kuwaiti dinar'}, {'name': 'Kyrgyzstan', 'currency': 'Kyrgyzstani som'}, {'name': \"Lao People's Democratic Republic\", 'currency': 'Lao kip'}, {'name': 'Lebanon', 'currency': 'Lebanese pound'}, {'name': 'Macao', 'currency': 'Macanese pataca'}, {'name': 'Malaysia', 'currency': 'Malaysian ringgit'}, {'name': 'Maldives', 'currency': 'Maldivian rufiyaa'}, {'name': 'Mongolia', 'currency': 'Mongolian tögrög'}, {'name': 'Myanmar', 'currency': 'Burmese kyat'}, {'name': 'Nepal', 'currency': 'Nepalese rupee'}, {'name': \"Korea (Democratic People's Republic of)\", 'currency': 'North Korean won'}, {'name': 'Oman', 'currency': 'Omani rial'}, {'name': 'Pakistan', 'currency': 'Pakistani rupee'}, {'name': 'Palestine, State of', 'currency': 'Israeli new sheqel'}, {'name': 'Philippines', 'currency': 'Philippine peso'}, {'name': 'Qatar', 'currency': 'Qatari riyal'}, {'name': 'Saudi Arabia', 'currency': 'Saudi riyal'}, {'name': 'Singapore', 'currency': 'Brunei dollar'}, {'name': 'Korea (Republic of)', 'currency': 'South Korean won'}, {'name': 'Sri Lanka', 'currency': 'Sri Lankan rupee'}, {'name': 'Syrian Arab Republic', 'currency': 'Syrian pound'}, {'name': 'Taiwan', 'currency': 'New Taiwan dollar'}, {'name': 'Tajikistan', 'currency': 'Tajikistani somoni'}, {'name': 'Thailand', 'currency': 'Thai baht'}, {'name': 'Timor-Leste', 'currency': 'United States dollar'}, {'name': 'Turkey', 'currency': 'Turkish lira'}, {'name': 'Turkmenistan', 'currency': 'Turkmenistan manat'}, {'name': 'United Arab Emirates', 'currency': 'United Arab Emirates dirham'}, {'name': 'Uzbekistan', 'currency': \"Uzbekistani so'm\"}, {'name': 'Viet Nam', 'currency': 'Vietnamese đồng'}, {'name': 'Yemen', 'currency': 'Yemeni rial'}]\n"
     ]
    }
   ],
   "source": [
    "import requests\n",
    "\n",
    "asia = requests.get('https://restcountries.eu/rest/v2/region/asia/').json()\n",
    "\n",
    "countries = []\n",
    "\n",
    "for i in asia:\n",
    "\tcountry = {\n",
    "\t\t'name': i['name'],\n",
    "\t\t'currency': i['currencies'][0]['name']\n",
    "\t}\n",
    "\tcountries.append(country)\n",
    "print(countries)"
   ]
  },
  {
   "cell_type": "code",
   "execution_count": null,
   "metadata": {},
   "outputs": [],
   "source": []
  }
 ],
 "metadata": {
  "kernelspec": {
   "display_name": "Python 3",
   "language": "python",
   "name": "python3"
  },
  "language_info": {
   "codemirror_mode": {
    "name": "ipython",
    "version": 3
   },
   "file_extension": ".py",
   "mimetype": "text/x-python",
   "name": "python",
   "nbconvert_exporter": "python",
   "pygments_lexer": "ipython3",
   "version": "3.7.6"
  }
 },
 "nbformat": 4,
 "nbformat_minor": 4
}
